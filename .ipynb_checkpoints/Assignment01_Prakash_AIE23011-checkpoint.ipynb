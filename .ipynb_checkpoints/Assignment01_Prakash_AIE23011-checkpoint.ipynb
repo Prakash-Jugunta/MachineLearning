{
 "cells": [
  {
   "cell_type": "markdown",
   "id": "ad643bc1-dcb3-445f-8ec0-3876a8a3fcb4",
   "metadata": {},
   "source": [
    "### Name : Jugunta Prakash\n",
    "### Reg : AIE23011\n",
    "### Sec : AIE - D"
   ]
  },
  {
   "cell_type": "code",
   "execution_count": 370,
   "id": "a260eb86-9723-475e-ac73-d784bc914cd8",
   "metadata": {},
   "outputs": [],
   "source": [
    "import numpy as np\n",
    "import pandas as pd\n",
    "import matplotlib.pyplot as plt\n",
    "import re\n",
    "import time"
   ]
  },
  {
   "cell_type": "markdown",
   "id": "5752f90d-de55-4a3f-956a-54bd6dc55f0c",
   "metadata": {},
   "source": [
    "## Q1)"
   ]
  },
  {
   "cell_type": "code",
   "execution_count": 360,
   "id": "cf38373c-d24e-4f32-bd1b-21ccbe873817",
   "metadata": {},
   "outputs": [
    {
     "name": "stdout",
     "output_type": "stream",
     "text": [
      "Magnitude of V1 :  100.0\n"
     ]
    }
   ],
   "source": [
    "random_vector=np.random.rand(1,1000)\n",
    "unit_vector=random_vector/((random_vector**2).sum())**0.5\n",
    "V1=unit_vector*100\n",
    "V1.sort()\n",
    "print(\"Magnitude of V1 : \",((V1**2).sum())**0.5)"
   ]
  },
  {
   "cell_type": "markdown",
   "id": "10aa74e6-5101-4564-b79b-98b53ac3556e",
   "metadata": {},
   "source": [
    "## Q2)"
   ]
  },
  {
   "cell_type": "code",
   "execution_count": 361,
   "id": "adaa81e4-92b5-4eda-b4a7-0548d5de62b5",
   "metadata": {},
   "outputs": [
    {
     "name": "stdout",
     "output_type": "stream",
     "text": [
      "Magnitude of V2 :  300.0\n",
      "here the vector got scaled 3 times of the initial vector V1\n"
     ]
    }
   ],
   "source": [
    "V2=3*V1\n",
    "print(\"Magnitude of V2 : \",((V2**2).sum())**0.5)\n",
    "print(\"here the vector got scaled 3 times of the initial vector V1\")"
   ]
  },
  {
   "cell_type": "markdown",
   "id": "3ea83fce-6ebb-4079-888d-03b835aacaef",
   "metadata": {},
   "source": [
    "## Q3)"
   ]
  },
  {
   "cell_type": "code",
   "execution_count": 362,
   "id": "974aa8bd-261a-46d3-a16a-3d52fdde83f4",
   "metadata": {},
   "outputs": [
    {
     "data": {
      "text/plain": [
       "(2.708311512561617, 1.6324977031917094)"
      ]
     },
     "execution_count": 362,
     "metadata": {},
     "output_type": "execute_result"
    }
   ],
   "source": [
    "mean=V1.mean()\n",
    "standard_deviation=V1.std()\n",
    "mean, standard_deviation"
   ]
  },
  {
   "cell_type": "markdown",
   "id": "470b6a17-4ffa-4946-99c7-a0512138ce99",
   "metadata": {},
   "source": [
    "## Q4)"
   ]
  },
  {
   "cell_type": "code",
   "execution_count": 363,
   "id": "83ce2a43-9963-4a1c-982c-fb0a16ebe209",
   "metadata": {},
   "outputs": [
    {
     "name": "stdout",
     "output_type": "stream",
     "text": [
      "Matrix with zeros : \n",
      " [[0 0 0]\n",
      " [0 0 0]\n",
      " [0 0 0]\n",
      " [0 0 0]]\n",
      "Matrix with random numbers : \n",
      " [[44 43 25]\n",
      " [38 42  2]\n",
      " [12  8 56]\n",
      " [42 81 18]]\n",
      "Matrix converted into single dimension : \n",
      " [[44 43 25 38 42  2 12  8 56 42 81 18]]\n"
     ]
    }
   ],
   "source": [
    "matrix=np.zeros((4,3), dtype='int')\n",
    "print(\"Matrix with zeros : \\n\",matrix)\n",
    "for i in range(len(matrix)):\n",
    "    for j in range(len(matrix[0])):\n",
    "        matrix[i][j]=np.random.randint(100)\n",
    "print(\"Matrix with random numbers : \\n\",matrix)\n",
    "print(\"Matrix converted into single dimension : \\n\",matrix.reshape(1,-1))"
   ]
  },
  {
   "cell_type": "markdown",
   "id": "fd59376a-49c1-4e23-8359-888bb4466332",
   "metadata": {},
   "source": [
    "## Q5)"
   ]
  },
  {
   "cell_type": "code",
   "execution_count": 366,
   "id": "4130ac27-cb07-4794-884b-f59b1e8fafe2",
   "metadata": {},
   "outputs": [
    {
     "name": "stdout",
     "output_type": "stream",
     "text": [
      "The number of times \"am\" occured is :  2\n"
     ]
    }
   ],
   "source": [
    "S1=\"I am a great learner. I am going to have an awesome life.\"\n",
    "answer=re.findall(\"am\",S1)\n",
    "print('The number of times \"am\" occured is : ', len(answer))"
   ]
  },
  {
   "cell_type": "markdown",
   "id": "3aeceabb-369f-4a5c-8f3b-69c4a34aaaf4",
   "metadata": {},
   "source": [
    "## Q6)"
   ]
  },
  {
   "cell_type": "code",
   "execution_count": 367,
   "id": "402d32f7-b943-4655-977a-d3bfcff3fa81",
   "metadata": {},
   "outputs": [
    {
     "data": {
      "text/plain": [
       "'I am a great learner. I am going to have an awesome life.I work hard and shall be rewarded well'"
      ]
     },
     "execution_count": 367,
     "metadata": {},
     "output_type": "execute_result"
    }
   ],
   "source": [
    "S2=\"I work hard and shall be rewarded well\"\n",
    "S3=S1+S2\n",
    "S3"
   ]
  },
  {
   "cell_type": "markdown",
   "id": "d2e5c747-61a9-48d0-848b-752c01cb39fb",
   "metadata": {},
   "source": [
    "## Q7)"
   ]
  },
  {
   "cell_type": "code",
   "execution_count": 368,
   "id": "6484d30a-3de5-47dd-ac52-7163fbf55e76",
   "metadata": {},
   "outputs": [
    {
     "data": {
      "text/plain": [
       "['I',\n",
       " 'am',\n",
       " 'a',\n",
       " 'great',\n",
       " 'learner',\n",
       " 'I',\n",
       " 'am',\n",
       " 'going',\n",
       " 'to',\n",
       " 'have',\n",
       " 'an',\n",
       " 'awesome',\n",
       " 'life',\n",
       " 'I',\n",
       " 'work',\n",
       " 'hard',\n",
       " 'and',\n",
       " 'shall',\n",
       " 'be',\n",
       " 'rewarded',\n",
       " 'well']"
      ]
     },
     "execution_count": 368,
     "metadata": {},
     "output_type": "execute_result"
    }
   ],
   "source": [
    "answer=re.split(r'[.\\s]+',S3)\n",
    "answer"
   ]
  },
  {
   "cell_type": "markdown",
   "id": "943b35e5-d5b8-4b68-87f4-1ce3cacaf16f",
   "metadata": {},
   "source": [
    "## Q8)"
   ]
  },
  {
   "cell_type": "code",
   "execution_count": 369,
   "id": "cb7f10da-8147-4c5e-b2e4-bd36c8aae8c7",
   "metadata": {},
   "outputs": [
    {
     "name": "stdout",
     "output_type": "stream",
     "text": [
      "I am a great learner. I am going to have an awesome life.I work hard and shall be rewarded well\n"
     ]
    },
    {
     "data": {
      "text/plain": [
       "['a',\n",
       " 'great',\n",
       " 'going',\n",
       " 'have',\n",
       " 'an',\n",
       " 'life',\n",
       " 'work',\n",
       " 'hard',\n",
       " 'shall',\n",
       " 'be',\n",
       " 'well']"
      ]
     },
     "execution_count": 369,
     "metadata": {},
     "output_type": "execute_result"
    }
   ],
   "source": [
    "print(S3)\n",
    "answer=re.findall(r'\\b(?!I|am|to|and|[a-z]{6})\\w+\\b',S3)\n",
    "answer"
   ]
  },
  {
   "cell_type": "markdown",
   "id": "9789ad52-f2c3-42d9-9c53-e8850fef7ca1",
   "metadata": {},
   "source": [
    "## Q9)"
   ]
  },
  {
   "cell_type": "code",
   "execution_count": 371,
   "id": "3ac0a8ba-4551-4034-a73e-0e69b0fb9973",
   "metadata": {},
   "outputs": [
    {
     "name": "stdout",
     "output_type": "stream",
     "text": [
      "day : 1 month :  6 year :  2021\n"
     ]
    }
   ],
   "source": [
    "answer=time.strptime(\"01-JUN-2021\",\"%d-%b-%Y\")\n",
    "answer\n",
    "print(\"day :\",answer.tm_mday,'month : ',answer.tm_mon,'year : ',answer.tm_year)"
   ]
  },
  {
   "cell_type": "markdown",
   "id": "1c9cfddc-5e51-4f8b-b741-21789f2c0cc1",
   "metadata": {},
   "source": [
    "## Q10)"
   ]
  },
  {
   "cell_type": "code",
   "execution_count": 373,
   "id": "f9bab7a4-b295-4489-880a-7af9c6dad4fd",
   "metadata": {},
   "outputs": [
    {
     "data": {
      "text/html": [
       "<div>\n",
       "<style scoped>\n",
       "    .dataframe tbody tr th:only-of-type {\n",
       "        vertical-align: middle;\n",
       "    }\n",
       "\n",
       "    .dataframe tbody tr th {\n",
       "        vertical-align: top;\n",
       "    }\n",
       "\n",
       "    .dataframe thead th {\n",
       "        text-align: right;\n",
       "    }\n",
       "</style>\n",
       "<table border=\"1\" class=\"dataframe\">\n",
       "  <thead>\n",
       "    <tr style=\"text-align: right;\">\n",
       "      <th></th>\n",
       "      <th>City</th>\n",
       "      <th>State</th>\n",
       "      <th>PIN Code</th>\n",
       "      <th>Address</th>\n",
       "    </tr>\n",
       "  </thead>\n",
       "  <tbody>\n",
       "    <tr>\n",
       "      <th>0</th>\n",
       "      <td>BENGALURU</td>\n",
       "      <td>KA</td>\n",
       "      <td>560001</td>\n",
       "      <td>BENGALURU,  KA</td>\n",
       "    </tr>\n",
       "    <tr>\n",
       "      <th>1</th>\n",
       "      <td>CHENNAI</td>\n",
       "      <td>TN</td>\n",
       "      <td>600001</td>\n",
       "      <td>CHENNAI,  TN</td>\n",
       "    </tr>\n",
       "    <tr>\n",
       "      <th>2</th>\n",
       "      <td>MUMBAI</td>\n",
       "      <td>MH</td>\n",
       "      <td>400001</td>\n",
       "      <td>MUMBAI,  MH</td>\n",
       "    </tr>\n",
       "    <tr>\n",
       "      <th>3</th>\n",
       "      <td>MYSURU</td>\n",
       "      <td>KA</td>\n",
       "      <td>570001</td>\n",
       "      <td>MYSURU,  KA</td>\n",
       "    </tr>\n",
       "    <tr>\n",
       "      <th>4</th>\n",
       "      <td>PATNA</td>\n",
       "      <td>BH</td>\n",
       "      <td>800001</td>\n",
       "      <td>PATNA,  BH</td>\n",
       "    </tr>\n",
       "    <tr>\n",
       "      <th>5</th>\n",
       "      <td>JAMMU</td>\n",
       "      <td>JK</td>\n",
       "      <td>180001</td>\n",
       "      <td>JAMMU,  JK</td>\n",
       "    </tr>\n",
       "    <tr>\n",
       "      <th>6</th>\n",
       "      <td>GANDHI NAGAR</td>\n",
       "      <td>GJ</td>\n",
       "      <td>382001</td>\n",
       "      <td>GANDHI NAGAR,  GJ</td>\n",
       "    </tr>\n",
       "    <tr>\n",
       "      <th>7</th>\n",
       "      <td>HYDERABAD</td>\n",
       "      <td>TS</td>\n",
       "      <td>500001</td>\n",
       "      <td>HYDERABAD,  TS</td>\n",
       "    </tr>\n",
       "    <tr>\n",
       "      <th>8</th>\n",
       "      <td>ERNAKULAM</td>\n",
       "      <td>KL</td>\n",
       "      <td>682001</td>\n",
       "      <td>ERNAKULAM,  KL</td>\n",
       "    </tr>\n",
       "    <tr>\n",
       "      <th>9</th>\n",
       "      <td>AMARAVATI</td>\n",
       "      <td>AP</td>\n",
       "      <td>522001</td>\n",
       "      <td>AMARAVATI,  AP</td>\n",
       "    </tr>\n",
       "  </tbody>\n",
       "</table>\n",
       "</div>"
      ],
      "text/plain": [
       "           City State  PIN Code            Address\n",
       "0     BENGALURU    KA    560001     BENGALURU,  KA\n",
       "1       CHENNAI    TN    600001       CHENNAI,  TN\n",
       "2        MUMBAI    MH    400001        MUMBAI,  MH\n",
       "3        MYSURU    KA    570001        MYSURU,  KA\n",
       "4         PATNA    BH    800001         PATNA,  BH\n",
       "5         JAMMU    JK    180001         JAMMU,  JK\n",
       "6  GANDHI NAGAR    GJ    382001  GANDHI NAGAR,  GJ\n",
       "7     HYDERABAD    TS    500001     HYDERABAD,  TS\n",
       "8     ERNAKULAM    KL    682001     ERNAKULAM,  KL\n",
       "9     AMARAVATI    AP    522001     AMARAVATI,  AP"
      ]
     },
     "execution_count": 373,
     "metadata": {},
     "output_type": "execute_result"
    }
   ],
   "source": [
    "def address(x):\n",
    "    return f\"{x['City']},  {x['State']}\"\n",
    "    \n",
    "data=pd.read_excel('assignment1_data_given.xlsx')\n",
    "data['Address']=data[['City','State']].apply(address,axis=1)\n",
    "data.to_excel('assignment1_data_answer.xlsx')\n",
    "data"
   ]
  },
  {
   "cell_type": "markdown",
   "id": "a97d41e1-a6f5-4139-902a-0e37cc3852f6",
   "metadata": {},
   "source": [
    "## Q11)"
   ]
  },
  {
   "cell_type": "code",
   "execution_count": 309,
   "id": "c3ef61fd-fd7f-4190-ace1-be72c29f940c",
   "metadata": {},
   "outputs": [
    {
     "data": {
      "text/plain": [
       "Text(0.5, 1.0, 'Line color is red')"
      ]
     },
     "execution_count": 309,
     "metadata": {},
     "output_type": "execute_result"
    },
    {
     "data": {
      "image/png": "[encoded data removed]",
      "text/plain": [
       "<Figure size 640x480 with 2 Axes>"
      ]
     },
     "metadata": {},
     "output_type": "display_data"
    }
   ],
   "source": [
    "V1.sort()\n",
    "\n",
    "x=[i for i in range(V1.shape[1])]\n",
    "plt.subplot(1,2,1)\n",
    "plt.plot(x,V1.flatten())\n",
    "plt.title(\"Line color is blue\")\n",
    "plt.subplot(1,2,2)\n",
    "plt.plot(x,V1.flatten(),c='r')\n",
    "plt.title(\"Line color is red\")"
   ]
  },
  {
   "cell_type": "markdown",
   "id": "6ac6757c-1224-438d-80c3-cfa7284ed2dc",
   "metadata": {},
   "source": [
    "## Q12)"
   ]
  },
  {
   "cell_type": "code",
   "execution_count": 304,
   "id": "d08bd22d-b2f7-480d-9ead-380d1160791b",
   "metadata": {},
   "outputs": [
    {
     "data": {
      "text/plain": [
       "[<matplotlib.lines.Line2D at 0x1eff0be6090>]"
      ]
     },
     "execution_count": 304,
     "metadata": {},
     "output_type": "execute_result"
    },
    {
     "data": {
      "image/png": "[encoded data removed]",
      "text/plain": [
       "<Figure size 640x480 with 1 Axes>"
      ]
     },
     "metadata": {},
     "output_type": "display_data"
    }
   ],
   "source": [
    "V2=V1**2\n",
    "plt.plot(x,V1.flatten())\n",
    "plt.plot(x,V2.flatten(),c='r')"
   ]
  }
 ],
 "metadata": {
  "kernelspec": {
   "display_name": "Python 3 (ipykernel)",
   "language": "python",
   "name": "python3"
  },
  "language_info": {
   "codemirror_mode": {
    "name": "ipython",
    "version": 3
   },
   "file_extension": ".py",
   "mimetype": "text/x-python",
   "name": "python",
   "nbconvert_exporter": "python",
   "pygments_lexer": "ipython3",
   "version": "3.12.4"
  }
 },
 "nbformat": 4,
 "nbformat_minor": 5
}
