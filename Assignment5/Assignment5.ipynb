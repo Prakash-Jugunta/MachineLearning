{
 "cells": [
  {
   "cell_type": "code",
   "execution_count": 3,
   "id": "initial_id",
   "metadata": {
    "collapsed": true
   },
   "outputs": [],
   "source": [
    "import pandas as pd\n",
    "import numpy as np\n",
    "from sklearn.linear_model import LinearRegression as LR\n",
    "from sklearn.model_selection import train_test_split\n",
    "from sklearn.metrics import mean_squared_error, r2_score #For regression\n",
    "from sklearn.cluster import KMeans\n",
    "from sklearn.preprocessing import StandardScaler\n",
    "from sklearn.metrics import silhouette_score ,calinski_harabasz_score,davies_bouldin_score  #For clustering\n",
    "import matplotlib.pyplot as plt"
   ]
  },
  {
   "cell_type": "markdown",
   "id": "6cf2cb82",
   "metadata": {},
   "source": [
    "A1. If your project deals with a regression problem, please use one attribute of your dataset\n",
    "(X_train) along with the target values (Y_train) for training a linear regression model. Sample code\n",
    "suggested below."
   ]
  },
  {
   "cell_type": "code",
   "execution_count": null,
   "id": "01ee20cd",
   "metadata": {},
   "outputs": [
    {
     "name": "stdout",
     "output_type": "stream",
     "text": [
      "[566977.05139891 479285.5072515  391593.9631041  ... 566977.05139891\n",
      " 479285.5072515  566977.05139891]\n"
     ]
    }
   ],
   "source": [
    "data=pd.read_csv('Transformed_Housing_Data2.csv')\n",
    "X=data[['No of Bedrooms']]\n",
    "Y=data['Sale_Price']\n",
    "\n",
    "X_train,X_test,Y_train,Y_test = train_test_split(X,Y,test_size = 0.3) #spliting the data into trainning(70%) and testing(30%)\n",
    "\n",
    "reg = LR().fit(X_train , Y_train) # Trainning the meodel\n",
    "Y_train_pred = reg.predict(X_train) #Apply the model on X_train to predict the values of Y_train\n",
    "\n",
    "print(Y_train_pred)\n",
    "\n",
    "\n"
   ]
  },
  {
   "cell_type": "markdown",
   "id": "e568e9c4",
   "metadata": {},
   "source": [
    "A2. Calculate MSE, RMSE, MAPE and R2 scores for prediction made by the trained model in A1.  \n",
    "Perform prediction on the test data and compare the metric values between train and test set."
   ]
  },
  {
   "cell_type": "code",
   "execution_count": 11,
   "id": "6063b4f4",
   "metadata": {},
   "outputs": [
    {
     "name": "stdout",
     "output_type": "stream",
     "text": [
      "Coefficients: [87691.5441474]\n",
      "Intercept: 216210.87480929174\n",
      "Training MSE: 55283477560.06254 Testing MSE: 55459064443.70479\n",
      "Training RMSE: 235124.38742091926 Testing RMSE: 235497.48288188726\n",
      "Training MAPE: 44.68592594944201 Testing MAPE: 46.01242000563903\n",
      "Training R^2 Score: 0.11089531760740023 Testing R^2 Score: 0.12446328473583801\n"
     ]
    }
   ],
   "source": [
    "Y_train_pred = reg.predict(X_train)\n",
    "Y_test_pred = reg.predict(X_test)\n",
    "\n",
    "# Evaluate the model\n",
    "train_mse = mean_squared_error(Y_train, Y_train_pred)\n",
    "test_mse = mean_squared_error(Y_test, Y_test_pred)\n",
    "train_rmse = np.sqrt(train_mse)\n",
    "test_rmse = np.sqrt(test_mse)\n",
    "train_mape = np.mean(np.abs((Y_train - Y_train_pred) / Y_train)) * 100\n",
    "test_mape = np.mean(np.abs((Y_test - Y_test_pred) / Y_test)) * 100\n",
    "train_r2 = r2_score(Y_train, Y_train_pred)\n",
    "test_r2 = r2_score(Y_test, Y_test_pred)\n",
    "\n",
    "# Print model coefficients and performance metrics\n",
    "print(\"Coefficients:\", reg.coef_)\n",
    "print(\"Intercept:\", reg.intercept_)\n",
    "print(\"Training MSE:\", train_mse, \"Testing MSE:\", test_mse)\n",
    "print(\"Training RMSE:\", train_rmse, \"Testing RMSE:\", test_rmse)\n",
    "print(\"Training MAPE:\", train_mape, \"Testing MAPE:\", test_mape)\n",
    "print(\"Training R^2 Score:\", train_r2, \"Testing R^2 Score:\", test_r2)\n"
   ]
  },
  {
   "cell_type": "markdown",
   "id": "a19faa21",
   "metadata": {},
   "source": [
    "A3. Repeat the exercises A1 and A2 with more than one attribute or all attributes."
   ]
  },
  {
   "cell_type": "code",
   "execution_count": 12,
   "id": "fa1e78ab",
   "metadata": {},
   "outputs": [
    {
     "name": "stdout",
     "output_type": "stream",
     "text": [
      "[711351.71951518 899337.13804717 566070.52410197 ... 569320.43527794\n",
      " 399934.78465728 592594.2282413 ]\n",
      "Coefficients: [ -4243.86792021  10376.82089748  59538.15467588  13193.14278565\n",
      "   2191.05049509  27606.75069589  59608.30564529  28734.74917321\n",
      "   -237.76202942  28187.69490479  22187.78067749 -22847.880271\n",
      "  17871.04356403  -1944.81952207 -11650.07806791  25401.6877803\n",
      "  21336.57795643  24125.22677999   1645.51080766  15446.80268262\n",
      "   9164.42946076  11613.91284882  33180.36157467  61042.31588826\n",
      "  79511.57551487  50641.87584932  73240.22159885  39632.18560163\n",
      "  68297.99081401  21350.75664954]\n",
      "Intercept: 511844.7162146124\n",
      "Training MSE: 9847068759.894205 Testing MSE: 9756229320.694477\n",
      "Training RMSE: 99232.39773327159 Testing RMSE: 98773.62664544862\n",
      "Training MAPE: 15.909379394832934 Testing MAPE: 15.824112950588209\n",
      "Training R^2 Score: 0.8433421320064267 Testing R^2 Score: 0.8419735765303442\n"
     ]
    }
   ],
   "source": [
    "X=data.drop(columns=['Sale_Price'])\n",
    "Y=data['Sale_Price']\n",
    "scaler=StandardScaler()\n",
    "X=pd.DataFrame(scaler.fit_transform(X),columns=X.columns)\n",
    "X_train,X_test,Y_train,Y_test = train_test_split(X,Y,test_size = 0.3) #spliting the data into trainning(70%) and testing(30%)\n",
    "\n",
    "reg = LR().fit(X_train , Y_train) # Trainning the meodel\n",
    "Y_train_pred = reg.predict(X_train) #Apply the model on X_train to predict the values of Y_train\n",
    "\n",
    "print(Y_train_pred)\n",
    "Y_train_pred = reg.predict(X_train)\n",
    "Y_test_pred = reg.predict(X_test)\n",
    "\n",
    "# Evaluate the model\n",
    "train_mse = mean_squared_error(Y_train, Y_train_pred)\n",
    "test_mse = mean_squared_error(Y_test, Y_test_pred)\n",
    "train_rmse = np.sqrt(train_mse)\n",
    "test_rmse = np.sqrt(test_mse)\n",
    "train_mape = np.mean(np.abs((Y_train - Y_train_pred) / Y_train)) * 100\n",
    "test_mape = np.mean(np.abs((Y_test - Y_test_pred) / Y_test)) * 100\n",
    "train_r2 = r2_score(Y_train, Y_train_pred)\n",
    "test_r2 = r2_score(Y_test, Y_test_pred)\n",
    "\n",
    "# Print model coefficients and performance metrics\n",
    "print(\"Coefficients:\", reg.coef_)\n",
    "print(\"Intercept:\", reg.intercept_)\n",
    "print(\"Training MSE:\", train_mse, \"Testing MSE:\", test_mse)\n",
    "print(\"Training RMSE:\", train_rmse, \"Testing RMSE:\", test_rmse)\n",
    "print(\"Training MAPE:\", train_mape, \"Testing MAPE:\", test_mape)\n",
    "print(\"Training R^2 Score:\", train_r2, \"Testing R^2 Score:\", test_r2)\n"
   ]
  },
  {
   "cell_type": "markdown",
   "id": "7488043f",
   "metadata": {},
   "source": [
    "A4. Perform k-means clustering on your data. Please remove / ignore the target variable for\n",
    "performing clustering. Sample code suggested below."
   ]
  },
  {
   "cell_type": "code",
   "execution_count": 14,
   "id": "bbaf4e2c",
   "metadata": {},
   "outputs": [
    {
     "name": "stdout",
     "output_type": "stream",
     "text": [
      "Cluster Labels: [1 0 0 ... 1 1 0]\n",
      "Cluster Centers: [[ 0.50315214  0.81685931  0.8318209   0.17883649  0.70548684  0.21659515\n",
      "   0.8419508   0.91062509  0.02279544 -0.66151498 -0.00778277  0.46321481\n",
      "   0.80550002  0.19292199 -0.01810759 -0.17072083  0.37227754 -0.27987598\n",
      "  -0.08197674  0.00955062  0.08057514 -0.00929384 -0.08395612 -0.12441643\n",
      "   0.16412297  0.05469732  0.16834432  0.02320226  0.13442895  0.0501987 ]\n",
      " [-0.3253251  -0.52694813 -0.53215258 -0.11879497 -0.45379657 -0.13660214\n",
      "  -0.53695657 -0.58220897 -0.01540363  0.43169013  0.01624819 -0.29141038\n",
      "  -0.50827201 -0.12555026  0.01235551  0.10280208 -0.23549401  0.18256727\n",
      "   0.04129507 -0.00171529 -0.05452152  0.0043249   0.05013445  0.07754258\n",
      "  -0.09222757 -0.03834795 -0.10651473 -0.00444905 -0.08411077 -0.03232397]]\n"
     ]
    }
   ],
   "source": [
    "#Applying Kmeans clustering on X_train\n",
    "kmeans = KMeans(n_clusters=2, random_state=0, n_init=\"auto\").fit(X_train)\n",
    "\n",
    "print(\"Cluster Labels:\", kmeans.labels_)\n",
    "print(\"Cluster Centers:\", kmeans.cluster_centers_)"
   ]
  },
  {
   "cell_type": "markdown",
   "id": "92ed210b",
   "metadata": {},
   "source": [
    "A5. For the clustering done in A4, calculate the: (i) Silhouette Score, (ii) CH Score and (iii) DB Index."
   ]
  },
  {
   "cell_type": "code",
   "execution_count": 15,
   "id": "50124d46",
   "metadata": {},
   "outputs": [
    {
     "name": "stdout",
     "output_type": "stream",
     "text": [
      "The silhouette score is :  0.14416565198138426\n",
      "The CH_score is :  1988.3562636339595\n",
      "The DB index is :  2.4664010665560014\n"
     ]
    }
   ],
   "source": [
    "Silhouette_score = silhouette_score(X_train, kmeans.labels_)\n",
    "CH_score = calinski_harabasz_score(X_train, kmeans.labels_)\n",
    "DB_index = davies_bouldin_score(X_train, kmeans.labels_)\n",
    "\n",
    "\n",
    "print(\"The silhouette score is : \",Silhouette_score)\n",
    "print(\"The CH_score is : \",CH_score)\n",
    "print(\"The DB index is : \",DB_index)\n"
   ]
  },
  {
   "cell_type": "markdown",
   "id": "98bf135f",
   "metadata": {},
   "source": [
    "A6. Perform k-means clustering for different values of k. Evaluate the above scores for each k value.\n",
    "Make a plot of the values against the k value to determine the optimal cluster count."
   ]
  },
  {
   "cell_type": "code",
   "execution_count": 16,
   "id": "3fd5d00b",
   "metadata": {},
   "outputs": [
    {
     "name": "stdout",
     "output_type": "stream",
     "text": [
      "K=2, Inertia: 399994.3236749735\n",
      "K=3, Inertia: 375355.6252202738\n",
      "K=4, Inertia: 362037.4543197158\n",
      "K=5, Inertia: 347655.9898519481\n",
      "K=6, Inertia: 325396.99560662423\n",
      "K=7, Inertia: 312112.8826011936\n",
      "K=8, Inertia: 304913.4273259455\n",
      "K=9, Inertia: 288539.10163803754\n",
      "K=10, Inertia: 280773.38229617494\n",
      "Optimal K: 10\n",
      "Cluster Labels: [4 6 6 ... 1 8 6]\n",
      "Cluster Centers: [[ 1.65207416e-03 -2.45850823e-01 -2.30939286e-01 -8.84859119e-02\n",
      "  -4.70859168e-01 -1.99159520e-03 -4.57299258e-01 -4.36177718e-01\n",
      "   3.37178330e-01  9.12039168e-01  5.77646175e-02 -3.37207894e-01\n",
      "  -3.91551215e-01 -8.77068077e-02 -1.66103175e-01  3.42106763e+00\n",
      "  -1.36029979e+00 -5.97002535e-01 -8.95740518e-02 -1.99963439e-01\n",
      "  -2.79110088e-02 -2.84682186e-02  1.68026829e-01  1.40964784e-01\n",
      "  -2.63597351e-02 -2.14086268e-01 -4.45371576e-02  1.37484679e-01\n",
      "  -1.68849736e-01 -4.81582499e-02]\n",
      " [-3.84683705e-01 -5.22473348e-01 -5.95034043e-01 -1.33055013e-01\n",
      "  -4.10263960e-01 -1.68107049e-01 -5.64715580e-01 -6.04655637e-01\n",
      "  -1.04843115e-01  1.39528927e-01 -1.31512627e-01 -2.46015857e-01\n",
      "  -5.53269738e-01 -1.49050462e-01 -1.67362115e-01 -2.92306411e-01\n",
      "   6.75390209e-01 -5.97002535e-01  1.98285809e-01 -2.08831432e-01\n",
      "  -7.17829431e-02  1.37799325e-01  2.35040785e-01 -4.15118881e-01\n",
      "   4.19757699e-02 -2.14086268e-01 -2.47600618e-01  2.95125312e-02\n",
      "  -1.68849736e-01 -4.81582499e-02]\n",
      " [-3.83861121e-01 -1.69280776e-01 -4.47063841e-01 -1.89250920e-01\n",
      "   3.75132029e-01 -1.30747845e-01 -1.67598254e-01 -4.15896225e-01\n",
      "  -1.48295460e-01 -1.66341931e-01  7.36325751e-01 -3.99709243e-01\n",
      "  -4.76373272e-01 -2.27136162e-01 -1.67001074e-01 -2.92306411e-01\n",
      "   6.84023977e-01 -5.48975730e-01 -7.12756430e-02 -2.02076389e-01\n",
      "  -8.71807601e-02 -3.50481241e-01 -4.82157550e-01  2.38322318e+00\n",
      "  -4.79093502e-01 -2.14086268e-01 -2.87711614e-01 -1.12273932e-01\n",
      "  -1.68849736e-01 -4.81582499e-02]\n",
      " [-1.61230067e-01 -5.04497279e-01 -4.02353808e-01 -5.75658982e-02\n",
      "  -5.86410984e-01 -5.78489955e-02 -5.08820814e-01 -4.89843333e-01\n",
      "   8.13445725e-02  5.30438292e-01 -1.89816262e-01 -1.94718893e-01\n",
      "  -4.13115911e-01 -4.04439523e-02 -1.67399578e-01 -2.92306411e-01\n",
      "  -1.36029979e+00  1.67275054e+00 -8.95740518e-02 -2.08490257e-01\n",
      "  -7.16879967e-02  4.13923719e-02  6.43690769e-02  3.40742829e-02\n",
      "  -8.64990310e-03 -2.14086268e-01 -2.08256153e-01  2.58006138e-03\n",
      "  -1.68849736e-01 -4.81582499e-02]\n",
      " [ 5.86666170e-01  6.45927720e-01  1.06567088e+00  1.70047534e-02\n",
      "   2.86004255e-02  9.26268833e-01  9.85040476e-01  8.14975983e-01\n",
      "   6.86701454e-01 -4.31681593e-02  1.81273717e-01 -5.05808454e-02\n",
      "   1.13670358e+00  3.57526370e-02  1.46322440e-02  1.14092893e-01\n",
      "  -4.24999731e-01  3.97623235e-01 -4.12756766e-02  1.20369926e-01\n",
      "   1.54973276e+00 -3.29856557e-01 -3.66965410e-01 -3.89526605e-01\n",
      "  -4.07499524e-01 -1.82637123e-01 -2.47331633e-01 -1.12273932e-01\n",
      "   5.13814124e+00 -4.81582499e-02]\n",
      " [ 4.45656792e-01  6.09914619e-01  7.73354516e-01 -3.81489671e-02\n",
      "   3.73315438e-01  2.96241502e-01  9.26399438e-01  6.79639441e-01\n",
      "   3.33328828e-01 -1.95111499e-01  2.77945004e-01  3.00170457e-01\n",
      "   9.83371056e-01 -3.79894340e-02 -1.62051293e-01 -1.07620083e-01\n",
      "   2.77852319e-02  5.21509788e-02 -7.76655635e-02 -1.68093596e-01\n",
      "  -3.82596956e-02 -3.50481241e-01 -4.82157550e-01 -4.19599813e-01\n",
      "  -4.79093502e-01 -2.14086268e-01  3.47570259e+00 -1.12273932e-01\n",
      "  -1.68849736e-01 -4.81582499e-02]\n",
      " [ 4.45091035e-01  7.75349923e-01  7.44621664e-01  2.57348753e-01\n",
      "   8.20265029e-01 -1.03427928e-02  7.63571378e-01  9.62226474e-01\n",
      "  -2.54489640e-01 -8.90681146e-01 -2.29704854e-01  6.84389424e-01\n",
      "   7.61515931e-01  2.74895043e-01 -1.67463054e-01 -2.83866925e-01\n",
      "   5.88094665e-01 -4.45963692e-01 -7.67859593e-02 -2.10155317e-01\n",
      "  -8.71807601e-02  1.53737608e-01  7.04686349e-02 -2.30090759e-01\n",
      "   4.35175360e-01 -2.14086268e-01 -2.87711614e-01  2.35244289e-02\n",
      "  -1.68849736e-01 -4.81582499e-02]\n",
      " [ 7.68843067e-01  1.28874287e+00  1.82753104e+00  4.49242723e-02\n",
      "   1.43014727e-01  1.78872896e-01  8.31634633e-01  1.79766835e+00\n",
      "   4.29127711e-01 -1.09908203e-01  4.75595358e-01 -1.34588894e-01\n",
      "   1.54529192e+00  1.53295123e-01  4.44065912e-01 -1.86210010e-01\n",
      "  -1.62910154e-01  3.11812384e-01 -8.95740518e-02  6.41594526e-01\n",
      "  -8.71807601e-02 -3.50481241e-01 -4.82157550e-01 -4.19599813e-01\n",
      "  -4.79093502e-01 -2.14086268e-01 -2.87711614e-01 -1.12273932e-01\n",
      "  -1.68849736e-01  2.07648742e+01]\n",
      " [ 4.06235068e-02  1.65695413e-01  1.83856455e-01  4.11134695e-02\n",
      "   2.17958915e-02  4.57052426e-01 -1.04246631e-02  5.37002887e-02\n",
      "   2.81132328e-01  1.12426064e+00  1.33438499e-01 -3.68301083e-01\n",
      "  -1.21396005e-01  1.92486716e-02  3.95717748e+00 -1.27267565e-01\n",
      "   3.55446982e-01 -2.97948053e-01 -3.18636855e-02  4.75838543e+00\n",
      "   4.66003586e-01 -3.28493482e-02  3.34456535e-02  5.47240770e-02\n",
      "   6.48889311e-02 -3.87236862e-02  1.78178639e-03  2.26904429e-01\n",
      "   8.16168492e-03 -4.81582499e-02]\n",
      " [ 1.12638588e-01  2.47998033e-01  3.49183595e-01  8.43497494e-02\n",
      "   3.26598842e-02  6.93833978e-02  4.62047809e-01  3.20586603e-01\n",
      "   1.24890561e-01 -8.33557950e-02  8.97450712e-01 -9.62635803e-02\n",
      "   3.95329370e-01  1.07141498e-01 -1.47414746e-01  8.90037191e-02\n",
      "  -8.25166954e-02  4.18957890e-02 -3.62398270e-02 -1.15964971e-01\n",
      "  -8.71807601e-02 -3.50481241e-01 -4.82157550e-01 -4.19599813e-01\n",
      "  -4.79093502e-01  4.67101422e+00 -2.87711614e-01 -1.12273932e-01\n",
      "  -1.68849736e-01 -4.81582499e-02]]\n"
     ]
    }
   ],
   "source": [
    "# Perform k-means clustering for different values of k and evaluate scores\n",
    "k_values = range(2, 11)\n",
    "inertia_scores = []\n",
    "\n",
    "for k in k_values:\n",
    "    kmeans = KMeans(n_clusters=k, random_state=0, n_init=\"auto\").fit(X_train)\n",
    "    inertia_scores.append(kmeans.inertia_)\n",
    "    print(f\"K={k}, Inertia: {kmeans.inertia_}\")\n",
    "\n",
    "# Print clustering results for the best k\n",
    "best_k = k_values[np.argmin(inertia_scores)]\n",
    "kmeans_best = KMeans(n_clusters=best_k, random_state=0, n_init=\"auto\").fit(X_train)\n",
    "print(\"Optimal K:\", best_k)\n",
    "print(\"Cluster Labels:\", kmeans_best.labels_)\n",
    "print(\"Cluster Centers:\", kmeans_best.cluster_centers_)\n"
   ]
  },
  {
   "cell_type": "markdown",
   "id": "eafe0a98",
   "metadata": {},
   "source": [
    "A7. Using elbow plot, determine the optimal k value for k-means clustering. Use below code."
   ]
  },
  {
   "cell_type": "code",
   "execution_count": 17,
   "id": "24a8c28b",
   "metadata": {},
   "outputs": [
    {
     "data": {
      "image/png": "[encoded data removed]",
      "text/plain": [
       "<Figure size 1000x500 with 1 Axes>"
      ]
     },
     "metadata": {},
     "output_type": "display_data"
    }
   ],
   "source": [
    "distorsions = []\n",
    "for k in range(2, 20):\n",
    "    kmeans = KMeans(n_clusters=k, random_state=0, n_init=\"auto\").fit(X_train)\n",
    "    distorsions.append(kmeans.inertia_)\n",
    "\n",
    "# Plot elbow method for optimal k\n",
    "plt.figure(figsize=(10, 5))\n",
    "plt.plot(range(2, 20), distorsions, '-o')\n",
    "plt.xlabel(\"Number of Clusters (k)\")\n",
    "plt.ylabel(\"Distortion\")\n",
    "plt.title(\"Elbow Plot for Optimal K\")\n",
    "plt.show()\n"
   ]
  }
 ],
 "metadata": {
  "kernelspec": {
   "display_name": "base",
   "language": "python",
   "name": "python3"
  },
  "language_info": {
   "codemirror_mode": {
    "name": "ipython",
    "version": 3
   },
   "file_extension": ".py",
   "mimetype": "text/x-python",
   "name": "python",
   "nbconvert_exporter": "python",
   "pygments_lexer": "ipython3",
   "version": "3.12.4"
  }
 },
 "nbformat": 4,
 "nbformat_minor": 5
}
