{
 "cells": [
  {
   "cell_type": "code",
   "execution_count": 1,
   "id": "initial_id",
   "metadata": {},
   "outputs": [],
   "source": [
    "import pandas as pd\n",
    "import numpy as np\n",
    "from sklearn.linear_model import LinearRegression as LR\n",
    "from sklearn.model_selection import train_test_split\n",
    "from sklearn.metrics import mean_squared_error, r2_score #For regression\n",
    "from sklearn.cluster import KMeans\n",
    "from sklearn.preprocessing import StandardScaler\n",
    "from sklearn.metrics import silhouette_score ,calinski_harabasz_score,davies_bouldin_score  #For clustering\n",
    "import matplotlib.pyplot as plt"
   ]
  },
  {
   "cell_type": "markdown",
   "id": "6cf2cb82",
   "metadata": {},
   "source": [
    "A1. If your project deals with a regression problem, please use one attribute of your dataset\n",
    "(X_train) along with the target values (Y_train) for training a linear regression model. Sample code\n",
    "suggested below."
   ]
  },
  {
   "cell_type": "code",
   "execution_count": 2,
   "id": "01ee20cd",
   "metadata": {},
   "outputs": [
    {
     "name": "stdout",
     "output_type": "stream",
     "text": [
      "[568798.84206334 568798.84206334 745030.93197112 ... 392566.75215556\n",
      " 568798.84206334 568798.84206334]\n"
     ]
    }
   ],
   "source": [
    "data=pd.read_csv('Transformed_Housing_Data2.csv')\n",
    "X=data[['No of Bedrooms']]\n",
    "Y=data['Sale_Price']\n",
    "\n",
    "X_train,X_test,Y_train,Y_test = train_test_split(X,Y,test_size = 0.3) #spliting the data into trainning(70%) and testing(30%)\n",
    "\n",
    "reg = LR().fit(X_train , Y_train) # Trainning the meodel\n",
    "Y_train_pred = reg.predict(X_train) #Apply the model on X_train to predict the values of Y_train\n",
    "\n",
    "print(Y_train_pred)\n",
    "\n",
    "\n"
   ]
  },
  {
   "cell_type": "markdown",
   "id": "e568e9c4",
   "metadata": {},
   "source": [
    "A2. Calculate MSE, RMSE, MAPE and R2 scores for prediction made by the trained model in A1.  \n",
    "Perform prediction on the test data and compare the metric values between train and test set."
   ]
  },
  {
   "cell_type": "code",
   "execution_count": 3,
   "id": "6063b4f4",
   "metadata": {},
   "outputs": [
    {
     "name": "stdout",
     "output_type": "stream",
     "text": [
      "Coefficients: [88116.04495389]\n",
      "Intercept: 216334.66224777448\n",
      "Training MSE: 55510565492.28697 Testing MSE: 54930918921.977036\n",
      "Training RMSE: 235606.80272922292 Testing RMSE: 234373.4603618273\n",
      "Training MAPE: 44.8761812305048 Testing MAPE: 46.17266422068724\n",
      "Training R^2 Score: 0.11063381632997404 Testing R^2 Score: 0.12462610412725761\n"
     ]
    }
   ],
   "source": [
    "Y_train_pred = reg.predict(X_train)\n",
    "Y_test_pred = reg.predict(X_test)\n",
    "\n",
    "# Evaluate the model\n",
    "train_mse = mean_squared_error(Y_train, Y_train_pred)\n",
    "test_mse = mean_squared_error(Y_test, Y_test_pred)\n",
    "train_rmse = np.sqrt(train_mse)\n",
    "test_rmse = np.sqrt(test_mse)\n",
    "train_mape = np.mean(np.abs((Y_train - Y_train_pred) / Y_train)) * 100\n",
    "test_mape = np.mean(np.abs((Y_test - Y_test_pred) / Y_test)) * 100\n",
    "train_r2 = r2_score(Y_train, Y_train_pred)\n",
    "test_r2 = r2_score(Y_test, Y_test_pred)\n",
    "\n",
    "# Print model coefficients and performance metrics\n",
    "print(\"Coefficients:\", reg.coef_)\n",
    "print(\"Intercept:\", reg.intercept_)\n",
    "print(\"Training MSE:\", train_mse, \"Testing MSE:\", test_mse)\n",
    "print(\"Training RMSE:\", train_rmse, \"Testing RMSE:\", test_rmse)\n",
    "print(\"Training MAPE:\", train_mape, \"Testing MAPE:\", test_mape)\n",
    "print(\"Training R^2 Score:\", train_r2, \"Testing R^2 Score:\", test_r2)\n"
   ]
  },
  {
   "cell_type": "markdown",
   "id": "a19faa21",
   "metadata": {},
   "source": [
    "A3. Repeat the exercises A1 and A2 with more than one attribute or all attributes."
   ]
  },
  {
   "cell_type": "code",
   "execution_count": 4,
   "id": "fa1e78ab",
   "metadata": {},
   "outputs": [
    {
     "name": "stdout",
     "output_type": "stream",
     "text": [
      "[ 522052.74664584  668657.18482886  478391.38783955 ...  256860.84698623\n",
      "  419929.31533681 1036958.2511961 ]\n",
      "Coefficients: [ -4449.48970925  11381.12914885  48114.54010429  12837.80334634\n",
      "   3130.96966812  27433.08157041  57654.06525047  37141.23227103\n",
      "   5117.32766748  26207.39529527  23064.98947682 -23722.5299882\n",
      "  20500.36521254  -1437.57564715 -14304.65864916  25920.50594244\n",
      "  20158.7154977   25045.90537361   1359.94401367  19057.0231976\n",
      "   8676.06265396  13011.5601084   32739.1426036   62693.49326506\n",
      "  79852.41940201  50322.42076406  73120.15056405  40994.19824406\n",
      "  67873.97783444  19551.56734469]\n",
      "Intercept: 511792.3344177115\n",
      "Training MSE: 9749356260.681232 Testing MSE: 10009524282.566874\n",
      "Training RMSE: 98738.82853609938 Testing RMSE: 100047.61007923614\n",
      "Training MAPE: 15.879501169507163 Testing MAPE: 15.969286240722367\n",
      "Training R^2 Score: 0.8435108313091029 Testing R^2 Score: 0.8412586158039627\n"
     ]
    }
   ],
   "source": [
    "X=data.drop(columns=['Sale_Price'])\n",
    "Y=data['Sale_Price']\n",
    "scaler=StandardScaler()\n",
    "X=pd.DataFrame(scaler.fit_transform(X),columns=X.columns)\n",
    "X_train,X_test,Y_train,Y_test = train_test_split(X,Y,test_size = 0.3) #spliting the data into trainning(70%) and testing(30%)\n",
    "\n",
    "reg = LR().fit(X_train , Y_train) # Trainning the meodel\n",
    "Y_train_pred = reg.predict(X_train) #Apply the model on X_train to predict the values of Y_train\n",
    "\n",
    "print(Y_train_pred)\n",
    "Y_train_pred = reg.predict(X_train)\n",
    "Y_test_pred = reg.predict(X_test)\n",
    "\n",
    "# Evaluate the model\n",
    "train_mse = mean_squared_error(Y_train, Y_train_pred)\n",
    "test_mse = mean_squared_error(Y_test, Y_test_pred)\n",
    "train_rmse = np.sqrt(train_mse)\n",
    "test_rmse = np.sqrt(test_mse)\n",
    "train_mape = np.mean(np.abs((Y_train - Y_train_pred) / Y_train)) * 100\n",
    "test_mape = np.mean(np.abs((Y_test - Y_test_pred) / Y_test)) * 100\n",
    "train_r2 = r2_score(Y_train, Y_train_pred)\n",
    "test_r2 = r2_score(Y_test, Y_test_pred)\n",
    "\n",
    "# Print model coefficients and performance metrics\n",
    "print(\"Coefficients:\", reg.coef_)\n",
    "print(\"Intercept:\", reg.intercept_)\n",
    "print(\"Training MSE:\", train_mse, \"Testing MSE:\", test_mse)\n",
    "print(\"Training RMSE:\", train_rmse, \"Testing RMSE:\", test_rmse)\n",
    "print(\"Training MAPE:\", train_mape, \"Testing MAPE:\", test_mape)\n",
    "print(\"Training R^2 Score:\", train_r2, \"Testing R^2 Score:\", test_r2)\n"
   ]
  },
  {
   "cell_type": "markdown",
   "id": "7488043f",
   "metadata": {},
   "source": [
    "A4. Perform k-means clustering on your data. Please remove / ignore the target variable for\n",
    "performing clustering. Sample code suggested below."
   ]
  },
  {
   "cell_type": "code",
   "execution_count": 5,
   "id": "bbaf4e2c",
   "metadata": {},
   "outputs": [
    {
     "name": "stdout",
     "output_type": "stream",
     "text": [
      "Cluster Labels: [1 1 1 ... 1 1 0]\n",
      "Cluster Centers: [[ 4.85514112e-01  8.08325778e-01  7.94347471e-01  1.60269704e-01\n",
      "   7.32637021e-01  2.14711885e-01  8.18857210e-01  8.81753205e-01\n",
      "  -2.66508287e-04 -6.72129817e-01 -6.97453841e-03  4.36196400e-01\n",
      "   7.64000269e-01  1.65154817e-01 -2.85696562e-02 -1.64151770e-01\n",
      "   3.89696496e-01 -3.03148825e-01 -8.01474130e-02  5.43390299e-03\n",
      "   9.48287124e-02 -5.36820103e-03 -8.64631917e-02 -9.88881195e-02\n",
      "   1.54222154e-01  5.51712393e-02  1.61830073e-01  1.16267211e-02\n",
      "   1.13824627e-01  5.29605205e-02]\n",
      " [-3.20744605e-01 -5.39222998e-01 -5.31225015e-01 -1.09934655e-01\n",
      "  -4.78784190e-01 -1.37784164e-01 -5.42556181e-01 -5.83808093e-01\n",
      "  -1.02017846e-02  4.48078507e-01  1.29355722e-02 -2.96629345e-01\n",
      "  -5.12597506e-01 -1.18690910e-01  1.92388511e-02  1.11188966e-01\n",
      "  -2.63727825e-01  2.05170293e-01  5.42134339e-02 -4.51188094e-03\n",
      "  -5.56267536e-02  8.20865591e-05  6.94410965e-02  6.79940515e-02\n",
      "  -9.40120730e-02 -4.23048594e-02 -1.08931972e-01 -1.67351188e-02\n",
      "  -8.03775698e-02 -3.90666118e-02]]\n"
     ]
    }
   ],
   "source": [
    "#Applying Kmeans clustering on X_train\n",
    "kmeans = KMeans(n_clusters=2, random_state=0, n_init=\"auto\").fit(X_train)\n",
    "\n",
    "print(\"Cluster Labels:\", kmeans.labels_)\n",
    "print(\"Cluster Centers:\", kmeans.cluster_centers_)"
   ]
  },
  {
   "cell_type": "markdown",
   "id": "92ed210b",
   "metadata": {},
   "source": [
    "A5. For the clustering done in A4, calculate the: (i) Silhouette Score, (ii) CH Score and (iii) DB Index."
   ]
  },
  {
   "cell_type": "code",
   "execution_count": 6,
   "id": "50124d46",
   "metadata": {},
   "outputs": [
    {
     "name": "stdout",
     "output_type": "stream",
     "text": [
      "The silhouette score is :  0.14309682517783434\n",
      "The CH_score is :  1983.6033495134523\n",
      "The DB index is :  2.4692696140795145\n"
     ]
    }
   ],
   "source": [
    "Silhouette_score = silhouette_score(X_train, kmeans.labels_)\n",
    "CH_score = calinski_harabasz_score(X_train, kmeans.labels_)\n",
    "DB_index = davies_bouldin_score(X_train, kmeans.labels_)\n",
    "\n",
    "\n",
    "print(\"The silhouette score is : \",Silhouette_score)\n",
    "print(\"The CH_score is : \",CH_score)\n",
    "print(\"The DB index is : \",DB_index)\n"
   ]
  },
  {
   "cell_type": "markdown",
   "id": "98bf135f",
   "metadata": {},
   "source": [
    "A6. Perform k-means clustering for different values of k. Evaluate the above scores for each k value.\n",
    "Make a plot of the values against the k value to determine the optimal cluster count."
   ]
  },
  {
   "cell_type": "code",
   "execution_count": 7,
   "id": "3fd5d00b",
   "metadata": {},
   "outputs": [
    {
     "name": "stdout",
     "output_type": "stream",
     "text": [
      "K=2, Inertia: 397844.3750281054\n",
      "K=3, Inertia: 381344.44689390843\n",
      "K=4, Inertia: 362629.32682136167\n",
      "K=5, Inertia: 351948.99784329056\n",
      "K=6, Inertia: 324084.884520947\n",
      "K=7, Inertia: 315026.3499609741\n",
      "K=8, Inertia: 308621.4030535829\n",
      "K=9, Inertia: 288249.1184848339\n",
      "K=10, Inertia: 279938.29093916307\n",
      "Optimal K: 10\n",
      "Cluster Labels: [7 0 5 ... 7 0 4]\n",
      "Cluster Centers: [[ 1.98913503e-02 -2.56010353e-01 -2.49838714e-01 -8.92311559e-02\n",
      "  -5.05192738e-01 -1.55380126e-02 -4.88096607e-01 -4.56593645e-01\n",
      "   3.36473410e-01  8.43236594e-01  7.89071779e-02 -3.17566940e-01\n",
      "  -4.39747248e-01 -9.59940962e-02 -1.66908678e-01  3.42106763e+00\n",
      "  -1.36029979e+00 -5.97002535e-01 -8.95740518e-02 -2.05307960e-01\n",
      "   3.02491017e-03 -3.47994851e-02  1.61248746e-01  8.35410938e-02\n",
      "  -2.84141140e-02  4.80410754e-02 -5.27277026e-02 -1.12273932e-01\n",
      "  -1.68849736e-01 -2.78528524e-02]\n",
      " [ 2.63639096e-02  5.07222270e-01  3.47314230e-02 -1.84385551e-01\n",
      "   1.00074993e+00 -2.12678729e-01  2.95246906e-01  2.61095145e-01\n",
      "  -4.15483259e-01 -9.79360480e-01 -2.84977598e-02  2.37806962e-01\n",
      "   1.51161683e-02 -2.09421203e-01 -1.67463054e-01 -2.92306411e-01\n",
      "   7.08008990e-01 -5.67593489e-01 -8.95740518e-02 -2.10155317e-01\n",
      "  -8.71807601e-02 -3.50481241e-01  1.37159725e-01  1.69244180e-01\n",
      "   2.27019901e-01 -1.23291171e-01 -2.87711614e-01 -1.12273932e-01\n",
      "  -1.68849736e-01 -4.81582499e-02]\n",
      " [ 7.02597091e-01  1.12069068e+00  1.55938459e+00  9.01958596e-01\n",
      "   6.83736156e-01  5.79558525e-01  1.41540499e+00  1.63816125e+00\n",
      "   1.73322041e-01 -7.39865653e-01  2.56484929e-01  7.44003772e-01\n",
      "   1.46138613e+00  9.36235456e-01 -1.62642128e-01 -2.37588240e-01\n",
      "   3.71624468e-01 -2.42424712e-01 -5.94239609e-02 -2.00171645e-01\n",
      "   2.53431742e-01 -2.19586559e-01 -9.69345790e-02 -6.47883299e-02\n",
      "   5.64299547e-01  5.97370477e-01 -2.29735373e-01 -1.12273932e-01\n",
      "  -1.68849736e-01  2.30649954e-01]\n",
      " [ 4.29211148e-01  5.64556711e-01  6.66365809e-01 -7.77371039e-02\n",
      "   3.84142891e-01  2.44216253e-01  8.81379208e-01  5.74355850e-01\n",
      "   3.08292416e-01 -1.66043711e-01  2.87293611e-01  2.74820974e-01\n",
      "   8.77431276e-01 -6.46314776e-02 -1.60334659e-01 -8.06840197e-02\n",
      "  -3.31929439e-02  9.68239087e-02 -6.53729304e-02 -1.62072665e-01\n",
      "  -1.88060615e-04 -3.50481241e-01 -4.82157550e-01 -4.19599813e-01\n",
      "  -4.79093502e-01 -2.14086268e-01  3.47570259e+00 -1.12273932e-01\n",
      "  -1.68849736e-01 -4.81582499e-02]\n",
      " [ 6.52287560e-01  6.93312664e-01  1.02877304e+00 -3.81461089e-02\n",
      "  -6.62665234e-02  4.07446909e-01  9.62617084e-01  8.14975748e-01\n",
      "   6.10137781e-01 -5.38455675e-02  2.00918810e-01 -5.75525310e-03\n",
      "   1.13908408e+00  4.64151161e-03  5.43918742e-02  1.28605004e-01\n",
      "  -4.26064425e-01  3.81633178e-01 -4.53484707e-03  2.02846811e-01\n",
      "   1.74830357e-01 -3.50481241e-01 -4.82157550e-01 -4.19599813e-01\n",
      "  -4.79093502e-01 -2.14086268e-01 -2.87711614e-01 -1.12273932e-01\n",
      "   5.92242562e+00 -4.81582499e-02]\n",
      " [-3.82885412e-01 -7.19945155e-01 -6.04597956e-01 -1.16947192e-01\n",
      "  -7.17891920e-01 -1.10801713e-01 -6.19504813e-01 -6.70515668e-01\n",
      "   3.83892731e-06  4.62697398e-01  1.23459952e-01 -3.38155106e-01\n",
      "  -5.28281852e-01 -1.26126335e-01 -1.67346815e-01 -2.92306411e-01\n",
      "   7.26130523e-01 -5.97002535e-01 -8.95740518e-02 -2.08630757e-01\n",
      "  -6.59025739e-02 -3.39667890e-01  2.11200194e-01  1.47156968e-01\n",
      "  -4.67717970e-02 -2.97145710e-02 -2.36901480e-01 -1.12273932e-01\n",
      "  -1.68849736e-01 -4.81582499e-02]\n",
      " [ 1.23951799e-01  3.02639393e-01  4.48774843e-01 -2.41844911e-01\n",
      "   4.91873905e-01 -1.16257272e-01  6.53896478e-01  2.43027564e-01\n",
      "   4.76645546e-01  1.01585248e+00  5.05723850e-01 -5.98193936e-01\n",
      "   4.42526314e-01 -2.87102737e-01  2.06069372e-01  3.71536992e-01\n",
      "  -2.01373788e-01 -2.58199740e-02  3.61636178e-02  3.17231690e-01\n",
      "  -8.71807601e-02 -3.50481241e-01 -4.82157550e-01 -4.19599813e-01\n",
      "  -4.79093502e-01 -2.14086268e-01 -2.87711614e-01  8.90678702e+00\n",
      "  -1.68849736e-01 -4.81582499e-02]\n",
      " [-2.15802534e-01 -5.28163242e-01 -4.31578345e-01 -6.35382380e-02\n",
      "  -5.87517498e-01 -7.54687022e-02 -5.35905855e-01 -5.03246932e-01\n",
      "   4.57768523e-02  5.46181877e-01 -9.96827798e-02 -2.32061766e-01\n",
      "  -4.20983273e-01 -7.37168816e-02 -1.67463054e-01 -2.92306411e-01\n",
      "  -1.36029979e+00  1.59758766e+00  2.90227549e-01 -2.10155317e-01\n",
      "  -4.42737009e-02 -2.13164324e-01  1.03613074e-01  5.99922403e-02\n",
      "   1.28732353e-02  3.54223852e-03 -2.30555475e-01 -1.12273932e-01\n",
      "  -1.68849736e-01 -2.00610073e-02]\n",
      " [ 1.81087035e-02  1.06733875e-01  1.27690916e-01 -1.88999603e-02\n",
      "   3.03837601e-02  5.55649951e-01 -5.32689034e-02  1.08560708e-02\n",
      "   2.44741674e-01  1.12573359e+00  1.18738873e-01 -3.68211067e-01\n",
      "  -1.39585604e-01 -1.64899829e-02  4.01870152e+00 -1.47714856e-01\n",
      "   3.19754428e-01 -2.51170309e-01 -9.90310365e-03  4.75838543e+00\n",
      "   5.46953128e-01 -1.06659750e-01  7.88422457e-02  9.63180464e-02\n",
      "   3.87224909e-02  1.05822968e-01 -7.95338989e-03 -1.12273932e-01\n",
      "  -2.86964974e-02  2.46539555e-01]\n",
      " [ 6.81872853e-03 -4.24890245e-02 -1.77540315e-01 -2.98213762e-02\n",
      "   8.82452034e-02 -2.19601317e-01 -2.03413806e-01 -6.00556504e-02\n",
      "  -2.57294232e-01 -3.73364371e-01 -7.00986064e-01  1.82090093e-01\n",
      "  -1.61076159e-01 -1.61454630e-02 -1.64553505e-01 -2.86602304e-01\n",
      "   2.58751249e-01 -9.96671817e-02 -2.90712484e-02 -1.83442732e-01\n",
      "  -6.05503419e-02  2.85321975e+00 -4.82157550e-01 -4.19599813e-01\n",
      "  -4.79093502e-01 -2.14086268e-01 -2.87711614e-01 -1.12273932e-01\n",
      "  -1.68849736e-01 -4.81582499e-02]]\n"
     ]
    }
   ],
   "source": [
    "# Perform k-means clustering for different values of k and evaluate scores\n",
    "k_values = range(2, 11)\n",
    "inertia_scores = []\n",
    "\n",
    "for k in k_values:\n",
    "    kmeans = KMeans(n_clusters=k, random_state=0, n_init=\"auto\").fit(X_train)\n",
    "    inertia_scores.append(kmeans.inertia_)\n",
    "    print(f\"K={k}, Inertia: {kmeans.inertia_}\")\n",
    "\n",
    "# Print clustering results for the best k\n",
    "best_k = k_values[np.argmin(inertia_scores)]\n",
    "kmeans_best = KMeans(n_clusters=best_k, random_state=0, n_init=\"auto\").fit(X_train)\n",
    "print(\"Optimal K:\", best_k)\n",
    "print(\"Cluster Labels:\", kmeans_best.labels_)\n",
    "print(\"Cluster Centers:\", kmeans_best.cluster_centers_)\n"
   ]
  },
  {
   "cell_type": "markdown",
   "id": "eafe0a98",
   "metadata": {},
   "source": [
    "A7. Using elbow plot, determine the optimal k value for k-means clustering. Use below code."
   ]
  },
  {
   "cell_type": "code",
   "execution_count": 8,
   "id": "24a8c28b",
   "metadata": {},
   "outputs": [
    {
     "data": {
      "image/png": "[encoded data removed]",
      "text/plain": [
       "<Figure size 1000x500 with 1 Axes>"
      ]
     },
     "metadata": {},
     "output_type": "display_data"
    }
   ],
   "source": [
    "distorsions = []\n",
    "for k in range(2, 20):\n",
    "    kmeans = KMeans(n_clusters=k, random_state=0, n_init=\"auto\").fit(X_train)\n",
    "    distorsions.append(kmeans.inertia_)\n",
    "\n",
    "# Plot elbow method for optimal k\n",
    "plt.figure(figsize=(10, 5))\n",
    "plt.plot(range(2, 20), distorsions, '-o')\n",
    "plt.xlabel(\"Number of Clusters (k)\")\n",
    "plt.ylabel(\"Distortion\")\n",
    "plt.title(\"Elbow Plot for Optimal K\")\n",
    "plt.show()\n"
   ]
  }
 ],
 "metadata": {
  "kernelspec": {
   "display_name": "Python 3 (ipykernel)",
   "language": "python",
   "name": "python3"
  },
  "language_info": {
   "codemirror_mode": {
    "name": "ipython",
    "version": 3
   },
   "file_extension": ".py",
   "mimetype": "text/x-python",
   "name": "python",
   "nbconvert_exporter": "python",
   "pygments_lexer": "ipython3",
   "version": "3.12.4"
  }
 },
 "nbformat": 4,
 "nbformat_minor": 5
}
